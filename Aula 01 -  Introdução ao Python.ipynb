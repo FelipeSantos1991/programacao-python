{
 "cells": [
  {
   "cell_type": "markdown",
   "id": "d3add8ad",
   "metadata": {},
   "source": [
    "###### Exercício 01 – Crie um programa para receber dois valores e em seguida, exiba o valor da soma.\n"
   ]
  },
  {
   "cell_type": "code",
   "execution_count": null,
   "id": "c5a4bb73",
   "metadata": {},
   "outputs": [],
   "source": [
    "valor1 = 10 \n",
    "valor2 = 30\n",
    "\n",
    "soma = valor1 + valor2\n",
    "print(soma)"
   ]
  },
  {
   "cell_type": "markdown",
   "id": "191e74c6",
   "metadata": {},
   "source": [
    "##### Exercício 02 – Crie um programa para receber dois valores e em seguida, exiba o valor da diferença entre eles."
   ]
  },
  {
   "cell_type": "code",
   "execution_count": null,
   "id": "a68dbb66",
   "metadata": {},
   "outputs": [],
   "source": [
    "valor1 = 10\n",
    "valor2 = 5\n",
    "diferenca =  valor1 - valor2\n",
    "print(diferenca )"
   ]
  },
  {
   "cell_type": "markdown",
   "id": "83884b60",
   "metadata": {},
   "source": [
    "##### Exercício 03 – Crie um programa para receber dois valores e em seguida, exiba o produto entre eles."
   ]
  },
  {
   "cell_type": "code",
   "execution_count": null,
   "id": "edea08b8",
   "metadata": {},
   "outputs": [],
   "source": [
    "valor1 = 25\n",
    "valor2 = 10\n",
    "\n",
    "produto = valor1 * valor2 \n",
    "print('o resultado da multiplicação é', produto)\n"
   ]
  },
  {
   "cell_type": "markdown",
   "id": "5c046b08",
   "metadata": {},
   "source": [
    "##### Exercício 04 - Crie um programa para receber dois valores e em seguida, exiba o quociente entre eles."
   ]
  },
  {
   "cell_type": "code",
   "execution_count": null,
   "id": "70ba4f9e",
   "metadata": {},
   "outputs": [],
   "source": [
    "valor1 = 10\n",
    "valor2 = 5\n",
    "quociente = valor1 / valor2\n",
    "print ('O resultado do quociente é', quociente)"
   ]
  },
  {
   "cell_type": "markdown",
   "id": "e0c11b93",
   "metadata": {},
   "source": [
    "##### Exercício 05 - Crie um programa para receber dois valores e em seguida, exiba o resto da divisão entre eles."
   ]
  },
  {
   "cell_type": "code",
   "execution_count": null,
   "id": "44c5733b",
   "metadata": {},
   "outputs": [],
   "source": [
    "valor1 = 10\n",
    "valor2 = 3\n",
    "resto = valor1 % valor2\n",
    "print('O resultado do resto é', resto)"
   ]
  },
  {
   "cell_type": "markdown",
   "id": "ffeb9b61",
   "metadata": {},
   "source": [
    "##### Exercício 06 - Crie um programa para receber um número e em seguida, exiba o quadrado dele."
   ]
  },
  {
   "cell_type": "code",
   "execution_count": null,
   "id": "38897d47",
   "metadata": {},
   "outputs": [],
   "source": [
    "valor1 = 5\n",
    "quadrado = valor1 ** 2\n",
    "print('O resultado do quadrado é', quadrado)"
   ]
  },
  {
   "cell_type": "markdown",
   "id": "cf665aff",
   "metadata": {},
   "source": [
    "##### Exercício 10 - Faça um Programa que converta metros para centímetros.\n"
   ]
  },
  {
   "cell_type": "code",
   "execution_count": null,
   "id": "23fff8fd",
   "metadata": {},
   "outputs": [],
   "source": [
    "#Solicitar ao usuário um valor em metros\n",
    "\n",
    "metros = input('Digite o valor em metros para converter em cm.')\n",
    "\n",
    "metros = int(metros)\n",
    "type(metros)\n",
    "\n",
    "centimetros = metros * 100\n",
    "\n",
    "print(centimetros)\n"
   ]
  },
  {
   "cell_type": "markdown",
   "id": "1fcbf27d",
   "metadata": {},
   "source": [
    "#### Exercício 11 - Faça um Programa que peça o raio de um círculo, calcule e mostre sua área."
   ]
  },
  {
   "cell_type": "code",
   "execution_count": 6,
   "id": "59bbd7fc",
   "metadata": {},
   "outputs": [
    {
     "name": "stdout",
     "output_type": "stream",
     "text": [
      "Informe o raio do círculo 10\n",
      "A área do circulo é: 314.159\n"
     ]
    }
   ],
   "source": [
    "import math\n",
    "raio = input('Informe o raio do círculo ')\n",
    "raio = float(raio)\n",
    "\n",
    "pi = math.pi\n",
    "\n",
    "area = round(pi * raio ** 2, 3)\n",
    "print('A área do circulo é:', area)\n",
    "# Round serve para colocar quantas casas decimais voçê quer que apareça."
   ]
  },
  {
   "cell_type": "markdown",
   "id": "1a0d824b",
   "metadata": {},
   "source": [
    "##### Exercício 12 - Faça um Programa que calcule a área de um quadrado, em seguida mostre o dobro desta área para o usuário"
   ]
  },
  {
   "cell_type": "code",
   "execution_count": 20,
   "id": "55e449fa",
   "metadata": {},
   "outputs": [
    {
     "name": "stdout",
     "output_type": "stream",
     "text": [
      "Digite o lado de um quadrado aqui.10\n",
      "o lado do quadrado é:  10.0 mm\n",
      "A área do quadrado é:  100.0 mm²\n",
      "O dobro da área é:  200.0 mm²\n"
     ]
    }
   ],
   "source": [
    "lado = input('Digite o lado de um quadrado aqui.')\n",
    "lado = float(lado)\n",
    "\n",
    "areaquadrado = lado * lado\n",
    "dobroArea = areaquadrado * 2\n",
    "print('o lado do quadrado é: ', lado, 'mm')\n",
    "print('A área do quadrado é: ', areaquadrado, 'mm²')\n",
    "print('O dobro da área é: ', dobroArea, 'mm²')\n"
   ]
  },
  {
   "cell_type": "markdown",
   "id": "f97cf6ca",
   "metadata": {},
   "source": [
    "###### Exercício 13 - Faça um Programa que pergunte quanto você ganha por hora e o número de horas trabalhadas no mês. Calcule e mostre o total do seu salário no referido mês."
   ]
  },
  {
   "cell_type": "code",
   "execution_count": 23,
   "id": "d32eae07",
   "metadata": {},
   "outputs": [
    {
     "name": "stdout",
     "output_type": "stream",
     "text": [
      "Digite aqui o valor da hora 15\n",
      " Digite aqui o número de horas trabalhadas. 48\n",
      "Recebenco o valor por hora de R$ 15.0\n",
      "Trabalhando 48.0 horas no mês\n",
      "O seu salário é de R$ 720.0\n"
     ]
    }
   ],
   "source": [
    "valorHora = input('Digite aqui o valor da hora ')\n",
    "valorHora = float(valorHora)\n",
    "horasTrabalhadas = input(' Digite aqui o número de horas trabalhadas. ')\n",
    "horasTrabalhadas = float(horasTrabalhadas)\n",
    "\n",
    "salario = valorHora * horasTrabalhadas\n",
    "\n",
    "hora = valorHora * horasTrabalhadas\n",
    "print('Recebenco o valor por hora de R$', valorHora)\n",
    "print('Trabalhando' , horasTrabalhadas, 'horas no mês')\n",
    "print ('O seu salário é de R$', salario)"
   ]
  },
  {
   "cell_type": "markdown",
   "id": "fd9bbe7d",
   "metadata": {},
   "source": [
    "###### Exercício 14 - Faça um Programa que peça a temperatura em graus Fahrenheit, transforme e mostre a temperatura em graus Celsius."
   ]
  },
  {
   "cell_type": "code",
   "execution_count": 25,
   "id": "5ac5bdf8",
   "metadata": {},
   "outputs": [
    {
     "name": "stdout",
     "output_type": "stream",
     "text": [
      "Digite a temperatura em graus Fahrenheit 50\n",
      "O valor em graus Fahrenheit de: 50.0 equivale a  10.0 graus Celsius\n"
     ]
    }
   ],
   "source": [
    "tempf = input('Digite a temperatura em graus Fahrenheit ')\n",
    "tempf = float(tempf)\n",
    "\n",
    "tempc = (tempf - 32)/1.8\n",
    "print('O valor em graus Fahrenheit de:', tempf,'equivale a ', tempc, 'graus Celsius')"
   ]
  },
  {
   "cell_type": "markdown",
   "id": "4c767d4a",
   "metadata": {},
   "source": [
    "###### Exercício 15 - Faça um Programa que peça a temperatura em graus Celsius, transforme e mostre em graus Fahrenheit."
   ]
  },
  {
   "cell_type": "code",
   "execution_count": 26,
   "id": "f17b304b",
   "metadata": {},
   "outputs": [
    {
     "name": "stdout",
     "output_type": "stream",
     "text": [
      "Digite a temperatura em Fahrenheit 10\n",
      "O valor de 10.0  na escala Celsius, equivale a 50.0 em Fahrenheit\n"
     ]
    }
   ],
   "source": [
    "tempc = input('Digite a temperatura em Fahrenheit ')\n",
    "tempc = float(tempc)\n",
    "\n",
    "tempf = tempc * 1.8 + 32\n",
    "print('O valor de', tempc, ' na escala Celsius, equivale a', tempf, 'em Fahrenheit')"
   ]
  },
  {
   "cell_type": "code",
   "execution_count": null,
   "id": "a9a82b91",
   "metadata": {},
   "outputs": [],
   "source": []
  }
 ],
 "metadata": {
  "kernelspec": {
   "display_name": "Python 3 (ipykernel)",
   "language": "python",
   "name": "python3"
  },
  "language_info": {
   "codemirror_mode": {
    "name": "ipython",
    "version": 3
   },
   "file_extension": ".py",
   "mimetype": "text/x-python",
   "name": "python",
   "nbconvert_exporter": "python",
   "pygments_lexer": "ipython3",
   "version": "3.10.9"
  }
 },
 "nbformat": 4,
 "nbformat_minor": 5
}
