{
 "cells": [
  {
   "cell_type": "markdown",
   "id": "9daa979b",
   "metadata": {},
   "source": [
    "###### Exercício 01 – Crie uma variável chamada \"idade\" e atribua um valor inteiro a ela. Verifique se a idade é maior ou igual a 18 e imprima \"Maior de idade\" ou \"Menor de idade\" de acordo com a condição."
   ]
  },
  {
   "cell_type": "code",
   "execution_count": null,
   "id": "518abdcf",
   "metadata": {},
   "outputs": [],
   "source": [
    "idade = input('Informe sua idade: ')\n",
    "idade = int(idade)\n",
    "if idade < 18: # A estrutura condicional IF ajuda a definir condiçôes para a execução de determinados blocos de comandos.\n",
    "    print('Menor de idade')\n",
    "else:\n",
    "     print('Maior de idade')"
   ]
  },
  {
   "cell_type": "markdown",
   "id": "36d3629c",
   "metadata": {},
   "source": [
    "##### Exercício 02 - Crie uma variável chamada \"número\" e atribua um valor inteiro a ela. Verifique se o número é positivo, negativo ou zero e imprima a mensagem correspondente.\n"
   ]
  },
  {
   "cell_type": "code",
   "execution_count": null,
   "id": "d1818f9d",
   "metadata": {},
   "outputs": [],
   "source": [
    "numero = input('Digite o número aqui: ')\n",
    "numero = int(numero)\n",
    "\n",
    "if numero >= 0:   \n",
    "    print('positivo')\n",
    "else:\n",
    "    \n",
    "    print('negativo')\n",
    "    "
   ]
  },
  {
   "cell_type": "code",
   "execution_count": null,
   "id": "f2c31928",
   "metadata": {},
   "outputs": [],
   "source": [
    "numero = input('Digite o número aqui: ')\n",
    "numero = int(numero)\n",
    "\n",
    "if numero > 0:\n",
    "\n",
    "    print('positivo')\n",
    "elif numero < 0:\n",
    "     print('negativo')\n",
    "else:\n",
    "    print('nulo')\n",
    "   \n",
    "    "
   ]
  },
  {
   "cell_type": "markdown",
   "id": "76a3f239",
   "metadata": {},
   "source": [
    "##### Exercício 03 - Crie duas variáveis, \"nota1\" e \"nota2\", e atribua valores numéricos a elas. Verifique se a média das notas é maior ou igual a 7 e imprima \"Aprovado\" ou \"Reprovado\" de acordo com a condição."
   ]
  },
  {
   "cell_type": "code",
   "execution_count": null,
   "id": "51a1deb7",
   "metadata": {},
   "outputs": [],
   "source": [
    "nota1 = input('Digite o nota 01 aqui! ')\n",
    "nota2 = input('Digite o nota 02 aqui! ')\n",
    "\n",
    "nota1 = float(nota1)\n",
    "nota2 = float(nota2)\n",
    "\n",
    "media = (nota1 + nota2) /2\n",
    "\n",
    "if media >=7:\n",
    "    print (F'Aprovado! Sua média final foi {media}, parabéns')\n",
    "else:\n",
    "    print(F'Reprovado! Sua média final foi {media}, faz um PIX')"
   ]
  },
  {
   "cell_type": "markdown",
   "id": "72f221d9",
   "metadata": {},
   "source": [
    "###### Exercício 04 - Crie uma variável chamada \"idade\" e atribua um valor inteiro a ela. Verifique se a idade está dentro do intervalo de 18 a 30 (inclusive) e imprima a mensagem \"Idade válida\" ou \"Idade inválida\" de acordo com a condição.\n"
   ]
  },
  {
   "cell_type": "code",
   "execution_count": null,
   "id": "c75f20e0",
   "metadata": {},
   "outputs": [],
   "source": [
    "idade = input('Digite um valor inteiro: ')\n",
    "idade = int(idade)\n",
    "\n",
    "if idade >=18 and idade <=30:\n",
    "    print('Idade válida')\n",
    "\n",
    "else:\n",
    "     print('Idade invalida')"
   ]
  },
  {
   "cell_type": "markdown",
   "id": "a2fdf731",
   "metadata": {},
   "source": [
    "##### Exercício 05 - Crie uma variável chamada \"numero\" e atribua um valor inteiro a ela. Verifique se o número é par ou ímpar e imprima a mensagem correspondente"
   ]
  },
  {
   "cell_type": "code",
   "execution_count": null,
   "id": "26d89f12",
   "metadata": {},
   "outputs": [],
   "source": [
    "num = input('Digite um valor inteiro: ')\n",
    "num = int(num)\n",
    "\n",
    "if num % 2 == 0:\n",
    "    print('O múmero é par: ')\n",
    "else:\n",
    "    print ('O número é impar:}')\n",
    "    "
   ]
  },
  {
   "cell_type": "markdown",
   "id": "3e877aa8",
   "metadata": {},
   "source": [
    "##### Exercício 06 - Crie uma variável chamada \"horario\" e atribua um valor inteiro representando a hora do dia (em formato 24 horas). Verifique se o horário está dentro do período da manhã (das 6h às 12h), da tarde (das 12h às 18h) ou da noite (das 18h às 23h) e imprima a mensagem correspondente."
   ]
  },
  {
   "cell_type": "code",
   "execution_count": null,
   "id": "bd734fe5",
   "metadata": {},
   "outputs": [],
   "source": [
    "horario = input('Informe o horario: ')\n",
    "horario = int(horario)\n",
    "\n",
    "if horario >=6 and horario <12:\n",
    "    print('Perido da manhã ')\n",
    "elif horario >=12 and horario <18:\n",
    "    print('Perido da tarde ')\n",
    "elif horario >=18 and horario <23:\n",
    "    print('Periodo da Noite')\n",
    "else: \n",
    "    print('horario invalido')"
   ]
  },
  {
   "cell_type": "markdown",
   "id": "e347a5c2",
   "metadata": {},
   "source": [
    "##### Exercício 07 - Crie uma variável chamada \"peso\" e atribua um valor numérico a ela. Verifique se o peso está dentro do intervalo de 50 a 100 (inclusive) e imprima a mensagem \"Peso válido\" ou \"Peso inválido\" de acordo com a condição. "
   ]
  },
  {
   "cell_type": "code",
   "execution_count": null,
   "id": "c197c536",
   "metadata": {},
   "outputs": [],
   "source": [
    "peso = float(input('Digite seu peso aqui '))\n",
    "\n",
    "if peso >=50 and peso <=100:\n",
    "             print('Seu peso é válido ')\n",
    "else:\n",
    "             print('Seu peso é invalido')"
   ]
  },
  {
   "cell_type": "markdown",
   "id": "336b7dad",
   "metadata": {},
   "source": [
    "###### Exercício 08 - Crie uma variável chamada \"numero\" e atribua um valor inteiro a ela. Verifique se o número é múltiplo de 3 e de 5 ao mesmo tempo e imprima a mensagem correspondente."
   ]
  },
  {
   "cell_type": "code",
   "execution_count": null,
   "id": "98a15bb6",
   "metadata": {},
   "outputs": [],
   "source": [
    "numero = int(input('Digite um número inteiro aqui! '))\n",
    "if (numero % 3 == 0) and (numero % 5 == 0):\n",
    "    print(f' O número {numero }é multiplo de 3 e 5 ao mesmo')\n",
    "else:\n",
    "    print(f' O número {numero} não é multiplo de 3 e 5.')"
   ]
  },
  {
   "cell_type": "markdown",
   "id": "7b90f664",
   "metadata": {},
   "source": [
    "##### Exercício 09 - Crie uma variável chamada \"ano\" e atribua um valor inteiro representando um ano. Verifique se o ano é bissexto (divisível por 4, mas não por 100, exceto se for divisível por 400) e imprima a mensagem correspondente"
   ]
  },
  {
   "cell_type": "code",
   "execution_count": null,
   "id": "adff52df",
   "metadata": {},
   "outputs": [],
   "source": [
    "ano = int(input('Digite o ano aqui. '))\n",
    "if( ano % 4  == 0 and ano % 100 !=0) or(ano % 400 == 0):\n",
    "      print('Ano bissexto')\n",
    "else:\n",
    "    print('Ano não bissexto')\n",
    "    "
   ]
  },
  {
   "cell_type": "markdown",
   "id": "0855ce5a",
   "metadata": {},
   "source": [
    "##### Exercício 10 - Crie uma variável chamada \"salario\" e atribua um valor numérico a ela. Verifique se o salário é maior do que 1000 e menor do que 2000 ao mesmo tempo e imprima a mensagem correspondente."
   ]
  },
  {
   "cell_type": "code",
   "execution_count": 8,
   "id": "7b695d08",
   "metadata": {},
   "outputs": [
    {
     "name": "stdout",
     "output_type": "stream",
     "text": [
      "Informe seu sálario aqui! 1001\n",
      "Seu salário é maior\n"
     ]
    }
   ],
   "source": [
    "salario = float(input('Informe seu sálario aqui! '))\n",
    "if salario >1000 and salario <2000:\n",
    "           print('Seu salário é maior')\n",
    "else:\n",
    "           print('Seu salário é menor')"
   ]
  },
  {
   "cell_type": "markdown",
   "id": "152ec3ab",
   "metadata": {},
   "source": [
    "#### Exercício 11 - Faça um Programa que peça dois números e imprima o maior deles."
   ]
  },
  {
   "cell_type": "code",
   "execution_count": 10,
   "id": "164af2ff",
   "metadata": {},
   "outputs": [
    {
     "name": "stdout",
     "output_type": "stream",
     "text": [
      "Digite o primeiro número. 5\n",
      "Digite o segundo número6\n",
      "6.0\n"
     ]
    }
   ],
   "source": [
    "num1 = float(input('Digite o primeiro número. '))\n",
    "num2 = float(input('Digite o segundo número' ))\n",
    "\n",
    "if num1>num2:\n",
    "    print(num1)\n",
    "else:\n",
    "    print(num2)\n"
   ]
  },
  {
   "cell_type": "markdown",
   "id": "db44bff0",
   "metadata": {},
   "source": [
    "##### Exercício 12 - Faça um Programa que peça um valor e mostre na tela se o valor é positivo ou negativo."
   ]
  },
  {
   "cell_type": "code",
   "execution_count": 15,
   "id": "0ab5551a",
   "metadata": {},
   "outputs": [
    {
     "name": "stdout",
     "output_type": "stream",
     "text": [
      "Informe seu valor 5\n",
      "Este número é positivo\n"
     ]
    }
   ],
   "source": [
    "valor = int(input('Informe seu valor '))\n",
    "if valor == 0 :\n",
    "         print('Este número é positivo')\n",
    "else:\n",
    "         print('Este número é positivo')\n"
   ]
  },
  {
   "cell_type": "markdown",
   "id": "a82955dc",
   "metadata": {},
   "source": [
    "###### Exercício 13 - Faça um Programa que verifique se uma letra digitada é \"F\" ou \"M\". Conforme a letra escrever: F - Feminino, M - Masculino, Sexo Inválido.Exercício "
   ]
  },
  {
   "cell_type": "code",
   "execution_count": 17,
   "id": "849a081d",
   "metadata": {},
   "outputs": [
    {
     "name": "stdout",
     "output_type": "stream",
     "text": [
      "digite uma letra: F\n",
      "Feminino\n"
     ]
    }
   ],
   "source": [
    "letra = input ('digite uma letra: ')\n",
    "\n",
    "if letra == 'M':\n",
    "    print ('masculino')\n",
    "elif letra =='F':\n",
    "    print ('Feminino')\n",
    "else:\n",
    "    print('Genero')"
   ]
  },
  {
   "cell_type": "markdown",
   "id": "5c116ebf",
   "metadata": {},
   "source": [
    "##### 14 - Faça um Programa que verifique se uma letra digitada é vogal ou consoante."
   ]
  },
  {
   "cell_type": "code",
   "execution_count": 19,
   "id": "4fb824b8",
   "metadata": {},
   "outputs": [
    {
     "name": "stdout",
     "output_type": "stream",
     "text": [
      "Digite a letra: b\n",
      "consoante\n"
     ]
    }
   ],
   "source": [
    "letra = input('Digite a letra: ')\n",
    "#letra = letra.upper() #conversão da Letra em maiúscula\n",
    "letra = letra.lower() #convesão da letra em minuscula\n",
    "if letra == \"a\" or letra == \"e\" or letra == \"i\" or letra == \"o\" or letra == \"u\":\n",
    "    print('vogal')\n",
    "else:\n",
    "    print(\"consoante\")"
   ]
  },
  {
   "cell_type": "markdown",
   "id": "1cb22760",
   "metadata": {},
   "source": [
    "##### Exercício 15 - Faça um programa para a leitura de duas notas parciais de um aluno. O programa deve calcular a média alcançada por aluno e apresentar:\n",
    "###### • A mensagem \"Aprovado\", se a média alcançada for maior ou igual a sete;\n",
    "###### • A mensagem \"Reprovado\", se a média for menor do que sete;\n",
    "###### • A mensagem \"Aprovado com Distinção\", se a média for igual a dez."
   ]
  },
  {
   "cell_type": "code",
   "execution_count": 26,
   "id": "e33890bb",
   "metadata": {},
   "outputs": [
    {
     "name": "stdout",
     "output_type": "stream",
     "text": [
      "Digite a primeira nota 5\n",
      "Digite a segunda nota 15\n",
      "Aprovado com Distinção.\n"
     ]
    }
   ],
   "source": [
    "nota1 = float(input('Digite a primeira nota '))\n",
    "nota2 = float(input('Digite a segunda nota '))\n",
    "\n",
    "media = (nota1 + nota2)/2\n",
    "\n",
    "if nota1 >=7:\n",
    "    print('Aprovado')\n",
    "elif nota2 <=7:\n",
    "    print('Reprovado')\n",
    "elif media == 10:\n",
    "      print('Aprovado com Distinção.')\n",
    "else:\n",
    "    print('Vai estudar')\n",
    "    "
   ]
  },
  {
   "cell_type": "code",
   "execution_count": null,
   "id": "af64e795",
   "metadata": {},
   "outputs": [],
   "source": []
  }
 ],
 "metadata": {
  "kernelspec": {
   "display_name": "Python 3 (ipykernel)",
   "language": "python",
   "name": "python3"
  },
  "language_info": {
   "codemirror_mode": {
    "name": "ipython",
    "version": 3
   },
   "file_extension": ".py",
   "mimetype": "text/x-python",
   "name": "python",
   "nbconvert_exporter": "python",
   "pygments_lexer": "ipython3",
   "version": "3.10.9"
  }
 },
 "nbformat": 4,
 "nbformat_minor": 5
}
